{
 "cells": [
  {
   "cell_type": "code",
   "execution_count": null,
   "id": "cf81982d",
   "metadata": {},
   "outputs": [],
   "source": [
    "# по урокам https://www.youtube.com/watch?v=EaR3C4e600k&ab_channel=ritvikmath"
   ]
  },
  {
   "cell_type": "markdown",
   "id": "c26e2514",
   "metadata": {},
   "source": [
    "## Darts"
   ]
  },
  {
   "cell_type": "raw",
   "id": "b2151f58",
   "metadata": {},
   "source": [
    "Необходимо найти вероятность того, что дротик попадет в круг."
   ]
  },
  {
   "cell_type": "code",
   "execution_count": 90,
   "id": "915aceea",
   "metadata": {},
   "outputs": [],
   "source": [
    "from math import *\n",
    "from random import *\n",
    "import numpy as np\n",
    "import matplotlib.pyplot as plt\n",
    "import matplotlib.ticker as ticker\n",
    "import matplotlib.patches as patches\n",
    "from time import time"
   ]
  },
  {
   "cell_type": "code",
   "execution_count": 91,
   "id": "ed630ed5",
   "metadata": {},
   "outputs": [
    {
     "data": {
      "image/png": "[encoded data removed]",
      "text/plain": [
       "<Figure size 360x360 with 1 Axes>"
      ]
     },
     "metadata": {
      "needs_background": "light"
     },
     "output_type": "display_data"
    }
   ],
   "source": [
    "fig = plt.figure(figsize = (5,5))\n",
    "ax = fig.add_subplot(111)\n",
    "ax.set_xlim([-1, 1])\n",
    "ax.set_ylim([-1, 1])\n",
    "ax.xaxis.set_major_locator(ticker.MultipleLocator(1))\n",
    "ax.yaxis.set_major_locator(ticker.MultipleLocator(1))\n",
    "\n",
    "circle = patches.Circle((0,0), 1, facecolor='w', edgecolor = 'k')\n",
    "ax.add_patch(circle)\n",
    "\n",
    "plt.show()"
   ]
  },
  {
   "cell_type": "code",
   "execution_count": 92,
   "id": "1772caf1",
   "metadata": {},
   "outputs": [
    {
     "name": "stdout",
     "output_type": "stream",
     "text": [
      "вероятность равна: 0.7854\n"
     ]
    }
   ],
   "source": [
    "# найдем вероятность того, что дротик попадет в круг, математическим способом\n",
    "\n",
    "rect_square = 4\n",
    "circle_square = pi\n",
    "\n",
    "print('вероятность равна:', round(circle_square/rect_square, 5))"
   ]
  },
  {
   "cell_type": "code",
   "execution_count": 93,
   "id": "1ff3af41",
   "metadata": {},
   "outputs": [
    {
     "name": "stdout",
     "output_type": "stream",
     "text": [
      "вероятность равна: 0.784752\n",
      "время 0.72\n"
     ]
    }
   ],
   "source": [
    "# теперь с помощью метода Монте-Карло\n",
    "\n",
    "N, circ = 1000000, 0   # количество опытов, сколько раз попали в круг\n",
    "start = time()\n",
    "\n",
    "for i in range(N):\n",
    "    x = random() * 2 - 1\n",
    "    y = random() * 2 - 1\n",
    "    if x**2 + y**2 <= 1:\n",
    "        circ += 1\n",
    "end = time()\n",
    "\n",
    "print('вероятность равна:', circ/N)\n",
    "print('время', round(end - start, 2))"
   ]
  },
  {
   "cell_type": "markdown",
   "id": "ccb45805",
   "metadata": {},
   "source": [
    "## Harder Example "
   ]
  },
  {
   "cell_type": "raw",
   "id": "d6b53c50",
   "metadata": {},
   "source": [
    "Игра состоит из нескольких раундов. Вероятность выиграть в одном раунде равна P. Игра заканчивается при проигрыше в двух раундах подряд. Необходимо найти среднее количество раундов в этой игре, прежде чем она закончится."
   ]
  },
  {
   "cell_type": "raw",
   "id": "073bf1ec",
   "metadata": {},
   "source": [
    "Математический способ:\n",
    "e = (1+e)*P + 2*(1-P)(1-P) + (2+e)*(1-P)(1+P)\n",
    "e = (2-P)/(1-P)**2"
   ]
  },
  {
   "cell_type": "code",
   "execution_count": 94,
   "id": "7d87f761",
   "metadata": {},
   "outputs": [
    {
     "data": {
      "text/plain": [
       "Text(0.5, 1.0, 'Number of Rounds')"
      ]
     },
     "execution_count": 94,
     "metadata": {},
     "output_type": "execute_result"
    },
    {
     "data": {
      "image/png": "[encoded data removed]",
      "text/plain": [
       "<Figure size 504x504 with 1 Axes>"
      ]
     },
     "metadata": {
      "needs_background": "light"
     },
     "output_type": "display_data"
    }
   ],
   "source": [
    "p = np.arange(0, 0.95, 0.05)\n",
    "e = (2 - p)/(1 - p)**2\n",
    "\n",
    "plt.figure(figsize = (7,7))\n",
    "plt.plot(p, e)\n",
    "plt.xlabel('p', fontsize = 15)\n",
    "plt.ylabel('number of rounds', fontsize = 15)\n",
    "plt.title('Number of Rounds', fontsize = 20)"
   ]
  },
  {
   "cell_type": "code",
   "execution_count": 95,
   "id": "db10fe23",
   "metadata": {},
   "outputs": [],
   "source": [
    "def play_game_MC(p):\n",
    "    N = 1000000\n",
    "    rounds = []\n",
    "    sum_rounds = 0\n",
    "    len_rounds = 0\n",
    "    start = time()\n",
    "    \n",
    "    for i in range(N):\n",
    "        r = 0\n",
    "        nloss = 0\n",
    "        while nloss != 2:\n",
    "            r += 1\n",
    "            if random() < p:\n",
    "                nloss = 0\n",
    "            else:\n",
    "                nloss += 1\n",
    "        rounds.append(r)\n",
    "        sum_rounds += r\n",
    "        len_rounds += 1\n",
    "    \n",
    "    end = time()\n",
    "    return sum_rounds/len_rounds, end - start\n",
    "\n",
    "def play_game_math(p):\n",
    "    return (2 - p)/(1 - p)**2"
   ]
  },
  {
   "cell_type": "code",
   "execution_count": 96,
   "id": "f9823a28",
   "metadata": {},
   "outputs": [],
   "source": [
    "def get_final_result(p):\n",
    "    print('при p =', p)\n",
    "    print('точный расчет:', play_game_math(p))\n",
    "    print('Монте-Карло:', play_game_MC(p)[0])\n",
    "    print('время:', play_game_MC(p)[1])"
   ]
  },
  {
   "cell_type": "code",
   "execution_count": 97,
   "id": "2ac641d6",
   "metadata": {},
   "outputs": [
    {
     "name": "stdout",
     "output_type": "stream",
     "text": [
      "при p = 0.3\n",
      "точный расчет: 3.469387755102041\n",
      "Монте-Карло: 3.471991\n",
      "время: 0.6701972484588623\n",
      "\n",
      "при p = 0.5\n",
      "точный расчет: 6.0\n",
      "Монте-Карло: 6.008537\n",
      "время: 0.9419753551483154\n",
      "\n",
      "при p = 0.8\n",
      "точный расчет: 30.000000000000014\n",
      "Монте-Карло: 29.994745\n",
      "время: 3.9314825534820557\n"
     ]
    }
   ],
   "source": [
    "get_final_result(0.3)\n",
    "print()\n",
    "get_final_result(0.5)\n",
    "print()\n",
    "get_final_result(0.8)"
   ]
  },
  {
   "cell_type": "markdown",
   "id": "b93f3afa",
   "metadata": {},
   "source": [
    "## Running Problem "
   ]
  },
  {
   "cell_type": "raw",
   "id": "c1786fae",
   "metadata": {},
   "source": [
    "Температура утром равномерно распределена от 40 до 60 градусов F. Человеку комфортно выходить на пробежку при средней температуре 55 градусов F со стандартным отклонением 5 F. Если температура воздуха больше комфортной, то человек выходит на пробежку и тратит калории по экспоненциальному закону распределения со средним значением 200 калорий. Какое среднее значение калорий сжигает человек?"
   ]
  },
  {
   "cell_type": "code",
   "execution_count": 98,
   "id": "926cc875",
   "metadata": {},
   "outputs": [],
   "source": [
    "import numpy as np\n",
    "import matplotlib.pyplot as plt\n",
    "from scipy.stats import norm\n",
    "from scipy.stats import expon\n",
    "from time import time"
   ]
  },
  {
   "cell_type": "code",
   "execution_count": 99,
   "id": "f9cfd9e4",
   "metadata": {},
   "outputs": [],
   "source": [
    "lower_temp = 40\n",
    "higher_temp = 60\n",
    "avg_tol = 55   # среднее значение комфортной температуры (average tolerance)\n",
    "sd_tol = 5   # стандартное отклонение (standart deviation)\n",
    "avg_calories_burned = 200 "
   ]
  },
  {
   "cell_type": "code",
   "execution_count": 100,
   "id": "e3987ec2",
   "metadata": {},
   "outputs": [
    {
     "data": {
      "text/plain": [
       "Text(0.5, 1.0, 'Exponential Distribution of Calories Burned')"
      ]
     },
     "execution_count": 100,
     "metadata": {},
     "output_type": "execute_result"
    },
    {
     "data": {
      "image/png": "[encoded data removed]",
      "text/plain": [
       "<Figure size 576x360 with 1 Axes>"
      ]
     },
     "metadata": {
      "needs_background": "light"
     },
     "output_type": "display_data"
    },
    {
     "data": {
      "image/png": "[encoded data removed]",
      "text/plain": [
       "<Figure size 576x360 with 1 Axes>"
      ]
     },
     "metadata": {
      "needs_background": "light"
     },
     "output_type": "display_data"
    }
   ],
   "source": [
    "x_vals1 = np.arange(35, 75, 1)\n",
    "plt.figure(figsize = (8, 5))\n",
    "plt.plot(x_vals1, norm.pdf(x_vals1, avg_tol, sd_tol))\n",
    "plt.xlabel('x', fontsize = 15)\n",
    "plt.ylabel('y', fontsize = 15)\n",
    "plt.title('Normal Distribution of Daily Tolerance', fontsize = 20)\n",
    "\n",
    "x_vals2 = np.arange(0, 500, 1)\n",
    "plt.figure(figsize = (8, 5))\n",
    "plt.plot(x_vals2, expon.pdf(x_vals2, 0, avg_calories_burned))\n",
    "plt.xlabel('x', fontsize = 15)\n",
    "plt.ylabel('y', fontsize = 15)\n",
    "plt.title('Exponential Distribution of Calories Burned', fontsize = 20)"
   ]
  },
  {
   "cell_type": "code",
   "execution_count": 101,
   "id": "c52c4336",
   "metadata": {},
   "outputs": [],
   "source": [
    "def get_calories_burned(lower_temp, higher_temp, avg_tol, sd_tol, avg_calories_burned):\n",
    "    \n",
    "    temp = np.random.uniform(lower_temp, higher_temp)   # uniform distribution\n",
    "    tol = np.random.normal(avg_tol, sd_tol)   # normal distribution\n",
    "    \n",
    "    if temp > tol:\n",
    "        cals = np.random.exponential(avg_calories_burned)\n",
    "    else:\n",
    "        cals = 0\n",
    "    \n",
    "    return cals"
   ]
  },
  {
   "cell_type": "code",
   "execution_count": 102,
   "id": "4c5ab50a",
   "metadata": {},
   "outputs": [
    {
     "name": "stdout",
     "output_type": "stream",
     "text": [
      "время(с): 0.5515210628509521\n",
      "среднее количество калорий: 53.79965528468808\n"
     ]
    }
   ],
   "source": [
    "num_days = 100000\n",
    "daily_calories = []\n",
    "\n",
    "start = time()\n",
    "for _ in range(num_days):\n",
    "    cals = get_calories_burned(lower_temp, higher_temp, avg_tol, sd_tol, avg_calories_burned)\n",
    "    daily_calories.append(cals)\n",
    "end = time()\n",
    "print('время(с):', end - start)\n",
    "print('среднее количество калорий:', np.mean(daily_calories))"
   ]
  },
  {
   "cell_type": "code",
   "execution_count": 103,
   "id": "62c5baed",
   "metadata": {},
   "outputs": [
    {
     "data": {
      "text/plain": [
       "Text(0.5, 1.0, '53.79965528468808')"
      ]
     },
     "execution_count": 103,
     "metadata": {},
     "output_type": "execute_result"
    },
    {
     "data": {
      "image/png": "[encoded data removed]",
      "text/plain": [
       "<Figure size 720x504 with 1 Axes>"
      ]
     },
     "metadata": {
      "needs_background": "light"
     },
     "output_type": "display_data"
    }
   ],
   "source": [
    "plt.figure(figsize = (10, 7))\n",
    "plt.hist(daily_calories)\n",
    "plt.title(np.mean(daily_calories))"
   ]
  },
  {
   "cell_type": "code",
   "execution_count": 104,
   "id": "28be1770",
   "metadata": {},
   "outputs": [
    {
     "name": "stdout",
     "output_type": "stream",
     "text": [
      "0.72968\n"
     ]
    }
   ],
   "source": [
    "print(len([i for i in daily_calories if i == 0]) / num_days)"
   ]
  },
  {
   "cell_type": "markdown",
   "id": "507cd48e",
   "metadata": {},
   "source": [
    "## Efficient Method: Vectorization "
   ]
  },
  {
   "cell_type": "code",
   "execution_count": 106,
   "id": "8f991ab4",
   "metadata": {},
   "outputs": [
    {
     "name": "stdout",
     "output_type": "stream",
     "text": [
      "0.011003255844116211\n"
     ]
    }
   ],
   "source": [
    "start = time()\n",
    "\n",
    "# получим все значения температуры temps одновременно\n",
    "temps = np.random.uniform(40, 60, num_days)\n",
    "\n",
    "# получим все значения комфортной температуры tols одновременно\n",
    "tols = np.random.normal(55, 5, num_days)\n",
    "\n",
    "# получим все значения калорий одновременно\n",
    "daily_calories = np.random.exponential(200, num_days)\n",
    "\n",
    "# если temp меньше, чем tols, то человек не бегал\n",
    "daily_calories[temps < tols] = 0\n",
    "\n",
    "end = time()\n",
    "print(end - start)"
   ]
  },
  {
   "cell_type": "code",
   "execution_count": 108,
   "id": "94d05256",
   "metadata": {},
   "outputs": [
    {
     "data": {
      "text/plain": [
       "Text(0.5, 1.0, '53.884063045108086')"
      ]
     },
     "execution_count": 108,
     "metadata": {},
     "output_type": "execute_result"
    },
    {
     "data": {
      "image/png": "[encoded data removed]",
      "text/plain": [
       "<Figure size 720x504 with 1 Axes>"
      ]
     },
     "metadata": {
      "needs_background": "light"
     },
     "output_type": "display_data"
    }
   ],
   "source": [
    "plt.figure(figsize = (10, 7))\n",
    "plt.hist(daily_calories)\n",
    "plt.title(np.mean(daily_calories))"
   ]
  },
  {
   "cell_type": "code",
   "execution_count": 109,
   "id": "1ecb5353",
   "metadata": {},
   "outputs": [
    {
     "name": "stdout",
     "output_type": "stream",
     "text": [
      "0.72883\n"
     ]
    }
   ],
   "source": [
    "print(len([i for i in daily_calories if i == 0]) / num_days)"
   ]
  }
 ],
 "metadata": {
  "kernelspec": {
   "display_name": "Python 3 (ipykernel)",
   "language": "python",
   "name": "python3"
  },
  "language_info": {
   "codemirror_mode": {
    "name": "ipython",
    "version": 3
   },
   "file_extension": ".py",
   "mimetype": "text/x-python",
   "name": "python",
   "nbconvert_exporter": "python",
   "pygments_lexer": "ipython3",
   "version": "3.9.12"
  }
 },
 "nbformat": 4,
 "nbformat_minor": 5
}
