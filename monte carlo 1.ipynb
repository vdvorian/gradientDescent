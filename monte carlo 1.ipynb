{
 "cells": [
  {
   "cell_type": "markdown",
   "id": "c26e2514",
   "metadata": {},
   "source": [
    "## Darts"
   ]
  },
  {
   "cell_type": "raw",
   "id": "b2151f58",
   "metadata": {},
   "source": [
    "Необходимо найти вероятность того, что дротик попадет в круг."
   ]
  },
  {
   "cell_type": "code",
   "execution_count": 19,
   "id": "915aceea",
   "metadata": {},
   "outputs": [],
   "source": [
    "from math import *\n",
    "from random import *\n",
    "import numpy as np\n",
    "import matplotlib.pyplot as plt\n",
    "import matplotlib.ticker as ticker\n",
    "import matplotlib.patches as patches"
   ]
  },
  {
   "cell_type": "code",
   "execution_count": 20,
   "id": "ed630ed5",
   "metadata": {},
   "outputs": [
    {
     "data": {
      "image/png": "[encoded data removed]",
      "text/plain": [
       "<Figure size 360x360 with 1 Axes>"
      ]
     },
     "metadata": {
      "needs_background": "light"
     },
     "output_type": "display_data"
    }
   ],
   "source": [
    "fig = plt.figure(figsize = (5,5))\n",
    "ax = fig.add_subplot(111)\n",
    "ax.set_xlim([-1, 1])\n",
    "ax.set_ylim([-1, 1])\n",
    "ax.xaxis.set_major_locator(ticker.MultipleLocator(1))\n",
    "ax.yaxis.set_major_locator(ticker.MultipleLocator(1))\n",
    "\n",
    "circle = patches.Circle((0,0), 1, facecolor='w', edgecolor = 'k')\n",
    "ax.add_patch(circle)\n",
    "\n",
    "plt.show()"
   ]
  },
  {
   "cell_type": "code",
   "execution_count": 21,
   "id": "1772caf1",
   "metadata": {},
   "outputs": [
    {
     "name": "stdout",
     "output_type": "stream",
     "text": [
      "вероятность равна: 0.7854\n"
     ]
    }
   ],
   "source": [
    "# найдем вероятность того, что дротик попадет в круг, математическим способом\n",
    "\n",
    "rect_square = 4\n",
    "circle_square = pi\n",
    "\n",
    "print('вероятность равна:', round(circle_square/rect_square, 5))"
   ]
  },
  {
   "cell_type": "code",
   "execution_count": 22,
   "id": "1ff3af41",
   "metadata": {},
   "outputs": [
    {
     "name": "stdout",
     "output_type": "stream",
     "text": [
      "вероятность равна: 0.785576\n"
     ]
    }
   ],
   "source": [
    "# теперь с помощью метода Монте-Карло\n",
    "\n",
    "N, circ = 1000000, 0   # количество опытов, сколько раз попали в круг\n",
    "for i in range(N):\n",
    "    x = random() * 2 - 1\n",
    "    y = random() * 2 - 1\n",
    "    if x**2 + y**2 <= 1:\n",
    "        circ += 1\n",
    "print('вероятность равна:', circ/N)"
   ]
  },
  {
   "cell_type": "markdown",
   "id": "e6adb7d2",
   "metadata": {},
   "source": [
    "## Harder Example "
   ]
  },
  {
   "cell_type": "raw",
   "id": "46dd7667",
   "metadata": {},
   "source": [
    "Игра состоит из нескольких раундов. Вероятность выиграть в одном раунде равна P. Игра заканчивается при проигрыше в двух раундах подряд. Необходимо найти среднее количество раундов в этой игре, прежде чем она закончится."
   ]
  },
  {
   "cell_type": "raw",
   "id": "35415bbb",
   "metadata": {},
   "source": [
    "Математический способ:\n",
    "e = (1+e)*P + 2*(1-P)(1-P) + (2+e)*(1-P)(1+P)\n",
    "e = (2-P)/(1-P)**2"
   ]
  },
  {
   "cell_type": "code",
   "execution_count": 23,
   "id": "2a0ec9e9",
   "metadata": {},
   "outputs": [
    {
     "data": {
      "text/plain": [
       "Text(0.5, 1.0, 'Number of Rounds')"
      ]
     },
     "execution_count": 23,
     "metadata": {},
     "output_type": "execute_result"
    },
    {
     "data": {
      "image/png": "[encoded data removed]",
      "text/plain": [
       "<Figure size 504x504 with 1 Axes>"
      ]
     },
     "metadata": {
      "needs_background": "light"
     },
     "output_type": "display_data"
    }
   ],
   "source": [
    "p = np.arange(0, 0.95, 0.05)\n",
    "e = (2 - p)/(1 - p)**2\n",
    "\n",
    "plt.figure(figsize = (7,7))\n",
    "plt.plot(p, e)\n",
    "plt.xlabel('p', fontsize = 15)\n",
    "plt.ylabel('number of rounds', fontsize = 15)\n",
    "plt.title('Number of Rounds', fontsize = 20)"
   ]
  },
  {
   "cell_type": "code",
   "execution_count": 38,
   "id": "e2b25495",
   "metadata": {},
   "outputs": [],
   "source": [
    "def game_MC(p):\n",
    "    N = 1000000\n",
    "    rounds = []\n",
    "    sum_rounds = 0\n",
    "    len_rounds = 0\n",
    "    for i in range(N):\n",
    "        r = 0\n",
    "        nloss = 0\n",
    "        while nloss != 2:\n",
    "            r += 1\n",
    "            if random() < p:\n",
    "                nloss = 0\n",
    "            else:\n",
    "                nloss += 1\n",
    "        rounds.append(r)\n",
    "        sum_rounds += r\n",
    "        len_rounds += 1\n",
    "    return sum_rounds/len_rounds\n",
    "\n",
    "def game_math(p):\n",
    "    return (2 - p)/(1 - p)**2"
   ]
  },
  {
   "cell_type": "code",
   "execution_count": 41,
   "id": "da557ab0",
   "metadata": {},
   "outputs": [],
   "source": [
    "def final_result(p):\n",
    "    print('при p =', p)\n",
    "    print('точный расчет:', game_math(p))\n",
    "    print('Монте-Карло:', game_MC(p))"
   ]
  },
  {
   "cell_type": "code",
   "execution_count": 44,
   "id": "fe30a539",
   "metadata": {},
   "outputs": [
    {
     "name": "stdout",
     "output_type": "stream",
     "text": [
      "при p = 0.3\n",
      "точный расчет: 3.469387755102041\n",
      "Монте-Карло: 3.471763\n",
      "\n",
      "при p = 0.5\n",
      "точный расчет: 6.0\n",
      "Монте-Карло: 5.999948\n",
      "\n",
      "при p = 0.7\n",
      "точный расчет: 14.444444444444441\n",
      "Монте-Карло: 14.4452\n"
     ]
    }
   ],
   "source": [
    "final_result(0.3)\n",
    "print()\n",
    "final_result(0.5)\n",
    "print()\n",
    "final_result(0.7)"
   ]
  }
 ],
 "metadata": {
  "kernelspec": {
   "display_name": "Python 3 (ipykernel)",
   "language": "python",
   "name": "python3"
  },
  "language_info": {
   "codemirror_mode": {
    "name": "ipython",
    "version": 3
   },
   "file_extension": ".py",
   "mimetype": "text/x-python",
   "name": "python",
   "nbconvert_exporter": "python",
   "pygments_lexer": "ipython3",
   "version": "3.9.12"
  }
 },
 "nbformat": 4,
 "nbformat_minor": 5
}
