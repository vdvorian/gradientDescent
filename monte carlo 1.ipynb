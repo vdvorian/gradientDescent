{
 "cells": [
  {
   "cell_type": "markdown",
   "id": "c26e2514",
   "metadata": {},
   "source": [
    "## Darts"
   ]
  },
  {
   "cell_type": "raw",
   "id": "b2151f58",
   "metadata": {},
   "source": [
    "Необходимо найти вероятность того, что дротик попадет в круг."
   ]
  },
  {
   "cell_type": "code",
   "execution_count": 36,
   "id": "915aceea",
   "metadata": {},
   "outputs": [],
   "source": [
    "from math import *\n",
    "from random import *\n",
    "import numpy as np\n",
    "import matplotlib.pyplot as plt\n",
    "import matplotlib.ticker as ticker\n",
    "import matplotlib.patches as patches"
   ]
  },
  {
   "cell_type": "code",
   "execution_count": 37,
   "id": "ed630ed5",
   "metadata": {},
   "outputs": [
    {
     "data": {
      "image/png": "[encoded data removed]",
      "text/plain": [
       "<Figure size 360x360 with 1 Axes>"
      ]
     },
     "metadata": {
      "needs_background": "light"
     },
     "output_type": "display_data"
    }
   ],
   "source": [
    "fig = plt.figure(figsize = (5,5))\n",
    "ax = fig.add_subplot(111)\n",
    "ax.set_xlim([-1, 1])\n",
    "ax.set_ylim([-1, 1])\n",
    "ax.xaxis.set_major_locator(ticker.MultipleLocator(1))\n",
    "ax.yaxis.set_major_locator(ticker.MultipleLocator(1))\n",
    "\n",
    "circle = patches.Circle((0,0), 1, facecolor='w', edgecolor = 'k')\n",
    "ax.add_patch(circle)\n",
    "\n",
    "plt.show()"
   ]
  },
  {
   "cell_type": "code",
   "execution_count": 38,
   "id": "1772caf1",
   "metadata": {},
   "outputs": [
    {
     "name": "stdout",
     "output_type": "stream",
     "text": [
      "вероятность равна: 0.785\n"
     ]
    }
   ],
   "source": [
    "# найдем вероятность того, что дротик попадет в круг, математическим способом\n",
    "\n",
    "rect_square = 4\n",
    "circle_square = pi\n",
    "\n",
    "print('вероятность равна:', round(circle_square/rect_square, 3))"
   ]
  },
  {
   "cell_type": "code",
   "execution_count": 50,
   "id": "1ff3af41",
   "metadata": {},
   "outputs": [
    {
     "name": "stdout",
     "output_type": "stream",
     "text": [
      "вероятность равна: 0.785386\n"
     ]
    }
   ],
   "source": [
    "# теперь с помощью метода Монте-Карло\n",
    "\n",
    "N, circ = 1000000, 0   # количество опытов, сколько раз попали в круг\n",
    "for i in range(N):\n",
    "    x = random() * 2 - 1\n",
    "    y = random() * 2 - 1\n",
    "    if x**2 + y**2 <= 1:\n",
    "        circ += 1\n",
    "print('вероятность равна:', circ/N)"
   ]
  },
  {
   "cell_type": "code",
   "execution_count": null,
   "id": "ffcfeefa",
   "metadata": {},
   "outputs": [],
   "source": []
  },
  {
   "cell_type": "code",
   "execution_count": null,
   "id": "df4ede88",
   "metadata": {},
   "outputs": [],
   "source": []
  }
 ],
 "metadata": {
  "kernelspec": {
   "display_name": "Python 3 (ipykernel)",
   "language": "python",
   "name": "python3"
  },
  "language_info": {
   "codemirror_mode": {
    "name": "ipython",
    "version": 3
   },
   "file_extension": ".py",
   "mimetype": "text/x-python",
   "name": "python",
   "nbconvert_exporter": "python",
   "pygments_lexer": "ipython3",
   "version": "3.9.12"
  }
 },
 "nbformat": 4,
 "nbformat_minor": 5
}
